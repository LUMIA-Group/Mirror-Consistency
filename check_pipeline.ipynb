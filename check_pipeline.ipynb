{
 "cells": [
  {
   "cell_type": "code",
   "execution_count": null,
   "id": "9660d8c3-35e8-441a-a415-311f77065b8f",
   "metadata": {
    "execution": {},
    "libroFormatter": "formatter-string"
   },
   "outputs": [],
   "source": [
    "from utils import *"
   ]
  },
  {
   "cell_type": "code",
   "execution_count": null,
   "id": "8a8122d4-14e9-4955-8a62-12b981d09204",
   "metadata": {
    "execution": {},
    "libroFormatter": "formatter-string"
   },
   "outputs": [],
   "source": [
    "import os\n",
    "import sys\n",
    "import time\n",
    "import jsonlines\n",
    "from pprint import pprint\n",
    "from tqdm import tqdm\n",
    "\n",
    "from collections import defaultdict\n",
    "import copy\n",
    "from copy import deepcopy\n",
    "import random"
   ]
  },
  {
   "cell_type": "markdown",
   "id": "3a320228-df93-46a3-b770-38cab78be41d",
   "metadata": {
    "libroCellType": "text"
   },
   "source": [
    "<h2 data-lake-id=\"Zv3rs\" id=\"Zv3rs\"><span data-lake-id=\"u80758df7\" id=\"u80758df7\"> Config</span></h2>"
   ]
  },
  {
   "cell_type": "code",
   "execution_count": null,
   "id": "69065c40-4053-4e8c-9d40-c8a438ec7290",
   "metadata": {
    "execution": {},
    "libroFormatter": "formatter-string"
   },
   "outputs": [],
   "source": [
    "from argparse import Namespace\n",
    "\n",
    "config = Namespace()\n",
    "\n",
    "config.dataset_name = 'GSM8K'\n",
    "config.split = 'test'\n",
    "config.model_name = 'LLAMA3-8B'\n",
    "config.start_index = 0\n",
    "config.end_index = 768\n",
    "\n",
    "config"
   ]
  },
  {
   "cell_type": "markdown",
   "id": "2c7fc955-a184-4e5c-b529-21a12492d7a6",
   "metadata": {
    "libroCellType": "text"
   },
   "source": [
    "<h2 data-lake-id=\"L2NZ7\" id=\"L2NZ7\"><span data-lake-id=\"ud4d32cb7\" id=\"ud4d32cb7\"> Dataset</span></h2>"
   ]
  },
  {
   "cell_type": "code",
   "execution_count": null,
   "id": "c5433448-58d3-4890-8956-c002d0b6a60f",
   "metadata": {
    "execution": {},
    "libroFormatter": "formatter-string"
   },
   "outputs": [],
   "source": [
    "dataset_frn = f\"data/{config.dataset_name}/{config.split}.jsonl\"\n",
    "dataset = load_data(dataset_frn)\n",
    "\n",
    "print(f'Dataset: {config.dataset_name}, Length: {len(dataset)}')"
   ]
  },
  {
   "cell_type": "code",
   "execution_count": null,
   "id": "93dde1cd-faf0-4d7d-acd2-e831b68d5413",
   "metadata": {
    "execution": {},
    "libroFormatter": "formatter-string"
   },
   "outputs": [],
   "source": [
    "# Path of the Initial Responses\n",
    "initial_pred_directory=f'/Initial-Generation-List/{config.model_name}/{config.dataset_name}'\n",
    "initial_pred_path=os.path.join(initial_pred_directory, 'output.jsonl')\n",
    "\n",
    "# Read and Processing the Initial Responses\n",
    "initial_generation_list = read_jsonl_as_list(initial_pred_path)\n",
    "recording_list = [{'id': zip_data[0]['id'], 'question': zip_data[0]['question'], 'response':zip_data[1]['completion'], 'response-answer':zip_data[1]['answer']} for zip_data in zip(dataset, initial_generation_list)]\n",
    "\n",
    "# Use recording_list to keep track of all the intermediate results.\n",
    "# Now the keys in recording_list: 'id', 'question', 'response' (initial response)\n",
    "print(f'size of initial prediction: {len(recording_list)}')"
   ]
  },
  {
   "cell_type": "markdown",
   "id": "9bd6e5b1-e589-4ea5-a001-94138e911f24",
   "metadata": {
    "libroCellType": "text"
   },
   "source": [
    "<h2 data-lake-id=\"BHdZ7\" id=\"BHdZ7\"><span data-lake-id=\"ua587df90\" id=\"ua587df90\"> LLM Configuration</span></h2>"
   ]
  },
  {
   "cell_type": "code",
   "execution_count": null,
   "id": "981feb0d-7d14-452a-984f-447ac0c8ca2c",
   "metadata": {
    "execution": {},
    "libroFormatter": "formatter-string"
   },
   "outputs": [],
   "source": [
    "from model import Model\n",
    "\n",
    "# Model Initialization\n",
    "llm = Model(config, cur_stage='Prepare-Model')\n",
    "\n",
    "model_id = '/root/Meta-Llama-3-8B-Instruct'\n",
    "llm.prepare_model(model_id)"
   ]
  },
  {
   "cell_type": "markdown",
   "id": "4e8ed175-6dd2-414e-889c-64905cfbc6c0",
   "metadata": {
    "libroCellType": "text"
   },
   "source": [
    "<h2 data-lake-id=\"PAj9K\" id=\"PAj9K\"><span data-lake-id=\"ub677a3bb\" id=\"ub677a3bb\"> Main Function</span></h2>"
   ]
  },
  {
   "cell_type": "code",
   "execution_count": null,
   "id": "bcd1eff4-9bd0-4484-8fa2-70b50d235524",
   "metadata": {
    "execution": {},
    "libroFormatter": "formatter-string"
   },
   "outputs": [],
   "source": [
    "from tqdm import tqdm\n",
    "\n",
    "def single_run(llm, stage, recording, config, round):\n",
    "    # Initialization of LLM Wrapper\n",
    "    llm.refresh_stage(cur_stage = stage, cur_round = round)\n",
    "    \n",
    "    # Current experiment name\n",
    "    if stage in ['Contrast-Responses-Merge-Memory', 'Regeneration-w-Suggestion']:\n",
    "        exp_name = f'{round}-{stage}'\n",
    "    else:\n",
    "        exp_name = stage\n",
    "        \n",
    "    for sample in tqdm(recording):\n",
    "        if exp_name in sample.keys():\n",
    "            # print(f'{exp_name} already done for the {sample[\"id\"]}-th sample')\n",
    "            continue\n",
    "\n",
    "        try:\n",
    "            completion = llm.predict(sample)\n",
    "            for k,v in completion.items():\n",
    "                sample[k] = v\n",
    "        except Exception as e:\n",
    "            sample[exp_name] = str(e)\n",
    "            print(f'Error at {sample[\"id\"]}-th sample: {str(e)}', file=sys.stderr)\n",
    "\n",
    "    # Save current recording-List\n",
    "    recording_path = f'/ossfs/workspace/Faithful-COT-Logic/recording/{config.model_name}/{config.dataset_name}'\n",
    "    if not os.path.exists(recording_path):\n",
    "        os.makedirs(recording_path)\n",
    "    with open(os.path.join(recording_path, f'{exp_name}-{config.start_index}-{config.end_index}.json'), 'w') as f:\n",
    "        json.dump(recording, f, indent=4)\n",
    "\n",
    "def complete_run(llm, recording, config, total_EM_rounds):\n",
    "    try:\n",
    "        single_run(llm=llm, stage='Initial-Regeneration', recording=recording, config=config, round=0)\n",
    "        get_cur_major_vote(weight_method='average', recording=recording, config=config)\n",
    "        for EM_step_id in range(1, total_EM_rounds+1):\n",
    "            single_run(llm=llm, stage='Contrast-Responses-Merge-Memory', recording=recording, config=config, round=2*EM_step_id-1)\n",
    "            single_run(llm=llm, stage='Regeneration-w-Suggestion', recording=recording, config=config, round=2*EM_step_id)\n",
    "            get_cur_major_vote(weight_method='average', recording=recording, config=config)\n",
    "    except Exception as e:\n",
    "        print(f'Error: {str(e)}', file=sys.stderr)\n"
   ]
  },
  {
   "cell_type": "markdown",
   "id": "4dbb2182-a27d-4e6f-8cd6-3b6939cabd5e",
   "metadata": {
    "libroCellType": "text"
   },
   "source": [
    "<h2 data-lake-id=\"HrWpH\" id=\"HrWpH\"><span data-lake-id=\"u7d31b026\" id=\"u7d31b026\"> Formal Running</span></h2>"
   ]
  },
  {
   "cell_type": "code",
   "execution_count": null,
   "id": "7bf27393-327f-43bd-9925-1b14c42903e2",
   "metadata": {
    "execution": {},
    "libroFormatter": "formatter-string"
   },
   "outputs": [],
   "source": [
    "recording = deepcopy(recording_list)[config.start_index:config.end_index]\n",
    "\n",
    "with open('/ossfs/workspace/Faithful-COT-Logic/recording/LLAMA3-8B/GSM8K/17-Contrast-Responses-Merge-Memory-0-768.json', 'r') as f:\n",
    "    recording = json.load(f)\n",
    "\n",
    "\n",
    "print(f'size of current run: {len(recording)}')"
   ]
  },
  {
   "cell_type": "code",
   "execution_count": null,
   "id": "93428333-4e07-4833-b50f-0e0b9b68b0bf",
   "metadata": {
    "execution": {},
    "libroFormatter": "formatter-string"
   },
   "outputs": [],
   "source": [
    "# The main running function\n",
    "\n",
    "complete_run(llm, recording, config, total_EM_rounds=9)"
   ]
  },
  {
   "cell_type": "code",
   "execution_count": null,
   "id": "0889515a-8b7f-44f0-9fea-870850ec4bfb",
   "metadata": {
    "execution": {},
    "libroFormatter": "formatter-string"
   },
   "outputs": [],
   "source": [
    "# initial_list = []\n",
    "\n",
    "# for r in recording:\n",
    "#     initial_list.append({'id':r['id'], 'completion': r['Initial-Regeneration'], 'answer': r['Initial-Regeneration-answer']})\n",
    "\n",
    "# initial_pred_directory=f'/ossfs/workspace/Faithful-COT-Logic/Initial-Generation-List/{config.model_name}/{config.dataset_name}'\n",
    "\n",
    "# if not os.path.exists(initial_pred_directory):\n",
    "#     os.makedirs(initial_pred_directory)\n",
    "\n",
    "# path = os.path.join(initial_pred_directory, 'output.jsonl')\n",
    "\n",
    "# dump_list_as_jsonl(path, initial_list)"
   ]
  },
  {
   "cell_type": "markdown",
   "id": "a506deac-41f0-43c0-ae36-6f488958127c",
   "metadata": {
    "libroCellType": "text"
   },
   "source": [
    "<h1 data-lake-id=\"qz0Nz\" id=\"qz0Nz\"><span data-lake-id=\"u2e00292b\" id=\"u2e00292b\"> Evaluating</span></h1>"
   ]
  },
  {
   "cell_type": "code",
   "execution_count": null,
   "id": "bf19533c-5477-4614-bd4a-3e01a1bf7228",
   "metadata": {
    "execution": {},
    "libroFormatter": "formatter-string"
   },
   "outputs": [],
   "source": [
    "recording_backup = deepcopy(recording)"
   ]
  },
  {
   "cell_type": "code",
   "execution_count": null,
   "id": "cdd66684-e286-4b68-92a8-e245f39d628d",
   "metadata": {
    "execution": {},
    "libroFormatter": "formatter-string"
   },
   "outputs": [],
   "source": [
    "for sample in recording_backup:\n",
    "    for k,v in sample.copy().items():\n",
    "        if k.endswith('answer'):\n",
    "            pred_answer = extract_pred_answer(config.dataset_name, v)\n",
    "\n",
    "            if isinstance(pred_answer, str):\n",
    "                print(sample)\n",
    "            sample[f'{k}-extracted'] = pred_answer\n",
    "            "
   ]
  },
  {
   "cell_type": "code",
   "execution_count": null,
   "id": "e0c15e09-1d4a-488c-9c41-afc3c60a53ce",
   "metadata": {
    "execution": {},
    "libroFormatter": "formatter-string"
   },
   "outputs": [],
   "source": [
    "def evaluate_acc(dataset, predictions, dataset_name, non_empty_only=False, valid_only=False, key4check = 'Initial-Regeneration-answer-extracted'):\n",
    "\tcorrect_count, total_count = 0, 0\n",
    "        \n",
    "\tfor example, prediction in zip(dataset, predictions):\n",
    "\t\tgold_id = int(example[\"id\"])\n",
    "\t\tif prediction == {}:\n",
    "\t\t\tcontinue\n",
    "\t\tpred_id = int(prediction[\"id\"])\n",
    "\n",
    "\t\ttry:\n",
    "\t\t\tassert gold_id == pred_id\n",
    "\t\texcept:\n",
    "\t\t\traise AssertionError(f\"Gold id {gold_id} doesn't match pred id {pred_id}.\")\n",
    "\n",
    "\t\ttry:\n",
    "\t\t\tgold_answer = extract_gold_answer(dataset_name, example[\"answer\"])\n",
    "\t\texcept SyntaxError as e:\n",
    "\t\t\tprint(\"Error: \", e)\n",
    "\t\t\tprint(gold_id)\n",
    "\t\t\texit(-1)\n",
    "            \n",
    "\t\tif key4check not in prediction:\n",
    "\t\t\tcontinue\n",
    "\t\tpred_answer = extract_pred_answer(dataset_name, prediction[key4check])\n",
    "\n",
    "\t\tif non_empty_only and pred_answer == \"\":\n",
    "\t\t\tcontinue\n",
    "\n",
    "\t\tif valid_only:\n",
    "\t\t\tif type(pred_answer) == str and (\"invalid\" in pred_answer or \"error\" in pred_answer):\n",
    "\t\t\t\tprint(pred_answer, flush=True)\n",
    "\t\t\t\tcontinue\n",
    "\n",
    "\t\ttotal_count += 1\n",
    "\t\ttry:\n",
    "\t\t\tcorrect = is_correct(dataset_name, gold_answer, pred_answer)\n",
    "\t\texcept Exception as e:\n",
    "\t\t\tprint(\"Error: \", e)\n",
    "\t\t\tprint(\"Example: \", gold_id)\n",
    "\t\t\tprint(\"Question: \", example[\"question\"])\n",
    "\t\t\tprint(\"Gold answer: \", gold_answer, type(gold_answer))\n",
    "\t\t\tprint(\"Pred answer: \", pred_answer, type(pred_answer))\n",
    "\t\t\tprint(\"Completion: \", prediction[\"completion\"])\n",
    "\t\t\tprint(\"\\n\")\n",
    "\t\t\texit(-1)\n",
    "\n",
    "\t\tif correct:\n",
    "\t\t\tcorrect_count += 1      \n",
    "\n",
    "\t\tprediction[key4check+'-correct']=correct\n",
    "\tprint(f'correct_count: {correct_count}, total_count: {total_count}')\n",
    "\tacc=round(correct_count/ total_count * 100, 1)\n",
    "\treturn acc"
   ]
  },
  {
   "cell_type": "code",
   "execution_count": null,
   "id": "3b22a214-06a9-4e45-88f5-0647245f67e0",
   "metadata": {
    "execution": {},
    "libroFormatter": "formatter-string"
   },
   "outputs": [],
   "source": [
    "steps_name_list = ['Initial-Regeneration-answer']+[f'{rnd}-Regeneration-w-Suggestion-answer' for rnd in [2,4,6]]\n",
    "\n",
    "acc_list = []\n",
    "for step_name in steps_name_list:\n",
    "    acc = evaluate_acc(dataset=dataset,\n",
    "                       predictions=recording_backup,\n",
    "                       dataset_name=config.dataset_name,\n",
    "                       non_empty_only=True,\n",
    "                       valid_only=True,\n",
    "                       key4check=step_name)\n",
    "    acc_list.append(acc)"
   ]
  },
  {
   "cell_type": "code",
   "execution_count": null,
   "id": "8d5df742-ca5a-4c36-a52d-8a64f7915acc",
   "metadata": {
    "execution": {},
    "libroFormatter": "formatter-string"
   },
   "outputs": [],
   "source": [
    "acc_list"
   ]
  },
  {
   "cell_type": "code",
   "execution_count": null,
   "id": "94e119fd-81e3-4eae-8023-e3a6396b3d4c",
   "metadata": {
    "execution": {},
    "libroFormatter": "formatter-string"
   },
   "outputs": [],
   "source": [
    "evaluate_acc(dataset=dataset,\n",
    "               predictions=recording_backup,\n",
    "               dataset_name=config.dataset_name,\n",
    "               non_empty_only=True,\n",
    "               valid_only=True,\n",
    "               key4check='Initial-Regeneration-answer')"
   ]
  }
 ],
 "metadata": {
  "language_info": {
   "name": "python"
  }
 },
 "nbformat": 4,
 "nbformat_minor": 5
}
